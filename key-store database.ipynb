{
 "cells": [
  {
   "cell_type": "code",
   "execution_count": null,
   "metadata": {},
   "outputs": [],
   "source": [
    "import json\n",
    "import time"
   ]
  },
  {
   "cell_type": "code",
   "execution_count": null,
   "metadata": {},
   "outputs": [],
   "source": [
    "temp={}"
   ]
  },
  {
   "cell_type": "code",
   "execution_count": 56,
   "metadata": {},
   "outputs": [
    {
     "name": "stdout",
     "output_type": "stream",
     "text": [
      "do you want to import master database and perform operations on it yes/no:yes\n",
      "loading master database in temp...\n",
      "loaded master database\n",
      "{'1': ['Red', 'Blue'], 'fruits': ['apple', 'grapes']}\n"
     ]
    }
   ],
   "source": [
    "x=input(\"do you want to import master database and perform operations on it yes/no:\")\n",
    "if(x=='yes'):\n",
    "    #load the master database\n",
    "    print(\"loading master database in temp...\")\n",
    "    with open('master.json','r') as fp:\n",
    "        data=json.load(fp)\n",
    "    temp=data\n",
    "    print(\"loaded master database\")\n",
    "    print(temp)"
   ]
  },
  {
   "cell_type": "code",
   "execution_count": 11,
   "metadata": {},
   "outputs": [
    {
     "name": "stdout",
     "output_type": "stream",
     "text": [
      "1\n",
      "1\n"
     ]
    },
   "source": [
    "i=input()\n",
    "def read(i):\n",
    "    if i not in t:\n",
    "        print(\"error: This key is not present\")\n",
    "    else:\n",
    "        a=t[i]\n",
    "        if a==0:\n",
    "            if time.time()<a[1]:\n",
    "                str1=str(i)+\":\"+str(a[0])\n",
    "                return str1\n",
    "            else:\n",
    "                print(\"Error: Time-to-live of\",i,\"has expired\")\n",
    "        else:\n",
    "            return\n",
    "i=input()\n",
    "read(i)\n",
    "x=input(\"do you want to add values yes/no:\")\n",
    "if(x==yes):\n",
    "    key=input(\"enter key\")\n",
    "    value=input(\"enter value\")\n",
    "    print(key,value)\n",
    "x=input(\"do you want to read the key and value yes/no:\")\n",
    "if(x==yes):\n",
    "    with open('master.json','r') as fp:\n",
    "        data=json.load(fp)\n",
    "    temp=data\n",
    "    print(\"loaded master database\")\n",
    "    print(temp)\n",
    "x=input(\"do you want to delete\")\n",
    "data=input(\"enter key\")\n",
    "for data in temp:\n",
    "    pop(data)\n",
    "with open('temp.json','W') as d:\n",
    "    data=json.dump(data,d)\n",
    "print(\"key deleted\")\n",
    "print(d)\n",
    "x=print(\"do yo want to display:yes/no\")\n",
    "if(x==yes):\n",
    "    print(data)"
   ],
   "source": [
    "import json\n",
    "temp=d\n",
    "with open('temp.json','w') as ld:\n",
    "    json.dump(temp,ld)"
   ],
  {
   "cell_type": "code",
   "execution_count": 60,
   "metadata": {},
   "outputs": [
    {
     "name": "stdout",
     "output_type": "stream",
     "text": [
      "your database after operations are:\n",
      "{'1': ['Red', 'Blue'], 'fruits': ['apple', 'grapes']}\n"
     ]
    }
   ],
   "source": [
    "print(\"your database after operations are:\")\n",
    "print(temp)"
   ],
  {
   "cell_type": "code",
   "execution_count": null,
   "metadata": {},
   "outputs": [],
   "source": [
    "x=input('is this first ever operation yes/no: ')\n",
    "if(x=='yes'):\n",
    "    data={}\n",
    "    import json\n",
    "    with open('master.json','r') as ld:\n",
    "        data=json.load(ld)\n",
    "        \n",
    "    master=dict(data)\n",
    "    master.update(temp)\n",
    "    with open('master.json','w') as ld:\n",
    "        json.dump(master,ld)\n",
    "        \n",
    "print(\"All task done\")\n",
    "        "
   ],
  {
   "cell_type": "code",
   "execution_count": null,
   "metadata": {},
   "outputs": [],
   "source": []
  }
 ],
 "metadata": {
  "kernelspec": {
   "display_name": "Python 3",
   "language": "python",
   "name": "python3"
  },
  "language_info": {
   "codemirror_mode": {
    "name": "ipython",
    "version": 3
   },
   "file_extension": ".py",
   "mimetype": "text/x-python",
   "name": "python",
   "nbconvert_exporter": "python",
   "pygments_lexer": "ipython3",
   "version": "3.9.0"
  }
 },
 "nbformat": 4,
 "nbformat_minor": 4
}
